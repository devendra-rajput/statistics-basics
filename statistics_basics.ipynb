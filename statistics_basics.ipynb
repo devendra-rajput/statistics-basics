{
  "nbformat": 4,
  "nbformat_minor": 0,
  "metadata": {
    "colab": {
      "provenance": []
    },
    "kernelspec": {
      "name": "python3",
      "display_name": "Python 3"
    },
    "language_info": {
      "name": "python"
    }
  },
  "cells": [
    {
      "cell_type": "markdown",
      "source": [
        "# Statistics Basics"
      ],
      "metadata": {
        "id": "7uwogP0M5GD1"
      }
    },
    {
      "cell_type": "markdown",
      "source": [
        "1. What is the difference between descriptive statistics and inferential\n",
        "statistics? Explain with examples?\n",
        "   - **Descriptive statistics:** Descriptive statistics are used to summarize and present data in a meaningful way using measures like mean, median, and charts — for example, showing the average marks of students in one class.\n",
        "\n",
        "      **Inferential statistics:** Inferential statistics go a step further by using sample data to make predictions or draw conclusions about a larger population — for instance, estimating the average marks of all students in a school based on one class's data.\n",
        "\n",
        "2. What is sampling in statistics? Explain the differences between random\n",
        "and stratified sampling?\n",
        "   - **Sampling:** Sampling in statistics is the process of selecting a small group (sample) from a larger population to study and make conclusions about the whole population. It helps save time, cost, and effort.\n",
        "\n",
        "      **Random sampling:** Random sampling means every individual in the population has an equal chance of being selected (e.g., picking names from a hat).\n",
        "\n",
        "      **Stratified sampling:** Stratified sampling means dividing the population into groups or “strata” (like age or gender) and then taking random samples from each group to ensure all categories are represented.\n",
        "\n",
        "3.  Define mean, median, and mode. Explain why these measures of central\n",
        "tendency are important.\n",
        "    - **Mean:** Mean is the sum of all data values divided by the total number of values, showing the overall average.\n",
        "\n",
        "      **Median:** Median is the middle value when data is arranged in order, giving a better idea of the center when there are extreme values.\n",
        "\n",
        "      **Mode:** Mode is the most frequently occurring value, useful for identifying common or popular items.\n",
        "\n",
        "      These measures of central tendency are important because they help summarize large datasets into a single representative value, making it easier to analyze and compare different data groups.\n",
        "\n",
        "4. Explain skewness and kurtosis. What does a positive skew imply about the\n",
        "data?\n",
        "    * **Skewness:** Skewness shows how data are distributed around the mean — whether they lean more to the left or right.\n",
        "\n",
        "      **Kurtosis:** Kurtosis indicates how sharply the data peak is compared to a normal distribution — high kurtosis means a sharp peak, while low kurtosis means a flatter shape.\n",
        "\n",
        "      A positive skew means the tail on the right side of the distribution is longer, showing that most values are smaller but a few large ones raise the average (mean > median)."
      ],
      "metadata": {
        "id": "A3laMrSm5XIT"
      }
    },
    {
      "cell_type": "markdown",
      "source": [
        "# Practical Questions"
      ],
      "metadata": {
        "id": "fgTQFY8g7105"
      }
    },
    {
      "cell_type": "code",
      "source": [
        "\"\"\"\n",
        "Q-5.  Implement a Python program to compute the mean, median, and mode of a given list of numbers.\n",
        "\n",
        "      numbers = [12, 15, 12, 18, 19, 12, 20, 22, 19, 19, 24, 24, 24, 26, 28]\n",
        "\"\"\"\n",
        "\n",
        "import statistics as stats\n",
        "\n",
        "numbers = [12, 15, 12, 18, 19, 12, 20, 22, 19, 19, 24, 24, 24, 26, 28]\n",
        "\n",
        "mean_value = stats.mean(numbers)\n",
        "median_value = stats.median(numbers)\n",
        "mode_value = stats.mode(numbers)\n",
        "\n",
        "print(\"Mean:\", mean_value)\n",
        "print(\"Median:\", median_value)\n",
        "print(\"Mode:\", mode_value)\n",
        "\n",
        "\n"
      ],
      "metadata": {
        "id": "jMXFvIXq728g",
        "colab": {
          "base_uri": "https://localhost:8080/"
        },
        "outputId": "a397eb94-2568-429e-bd80-0cb17cfd4265"
      },
      "execution_count": 5,
      "outputs": [
        {
          "output_type": "stream",
          "name": "stdout",
          "text": [
            "Mean: 19.6\n",
            "Median: 19\n",
            "Mode: 12\n"
          ]
        }
      ]
    },
    {
      "cell_type": "code",
      "source": [
        "\"\"\"\n",
        "Q-6. Compute the covariance and correlation coefficient between the following two datasets provided as lists in Python:\n",
        "\n",
        "      list_x = [10, 20, 30, 40, 50]\n",
        "      list_y = [15, 25, 35, 45, 60]\n",
        "\"\"\"\n",
        "\n",
        "import numpy as np\n",
        "\n",
        "list_x = [10, 20, 30, 40, 50]\n",
        "list_y = [15, 25, 35, 45, 60]\n",
        "\n",
        "cov_matrix = np.cov(list_x, list_y, bias=False)\n",
        "covariance = cov_matrix[0, 1]\n",
        "\n",
        "correlation = np.corrcoef(list_x, list_y)[0, 1]\n",
        "\n",
        "print(\"Covariance:\", covariance)\n",
        "print(\"Correlation Coefficient:\", correlation)\n"
      ],
      "metadata": {
        "id": "PkyzVrIR8WEE",
        "colab": {
          "base_uri": "https://localhost:8080/"
        },
        "outputId": "b17e9e0f-6347-417a-fe32-f39453964d54"
      },
      "execution_count": 4,
      "outputs": [
        {
          "output_type": "stream",
          "name": "stdout",
          "text": [
            "Covariance: 275.0\n",
            "Correlation Coefficient: 0.995893206467704\n"
          ]
        }
      ]
    },
    {
      "cell_type": "code",
      "source": [
        "\"\"\"\n",
        "Q-7. Write a Python script to draw a boxplot for the following numeric list and identify its outliers. Explain the result:\n",
        "\n",
        "      data = [12, 14, 14, 15, 18, 19, 19, 21, 22, 22, 23, 23, 24, 26, 29, 35]\n",
        "\"\"\"\n",
        "\n",
        "import matplotlib.pyplot as plt\n",
        "\n",
        "data = [12, 14, 14, 15, 18, 19, 19, 21, 22, 22, 23, 23, 24, 26, 29, 35]\n",
        "\n",
        "plt.boxplot(data, vert=False)\n",
        "plt.title(\"Boxplot of Data\")\n",
        "plt.xlabel(\"Values\")\n",
        "plt.show()\n",
        "\n",
        "Q1 = np.percentile(data, 25)\n",
        "Q3 = np.percentile(data, 75)\n",
        "IQR = Q3 - Q1\n",
        "\n",
        "lower_bound = Q1 - 1.5 * IQR\n",
        "upper_bound = Q3 + 1.5 * IQR\n",
        "\n",
        "outliers = [x for x in data if x < lower_bound or x > upper_bound]\n",
        "\n",
        "print(\"Outliers:\", outliers)\n",
        "\n"
      ],
      "metadata": {
        "colab": {
          "base_uri": "https://localhost:8080/",
          "height": 490
        },
        "id": "EvUn5m0iFqpP",
        "outputId": "650ca2db-835d-4374-9368-733c88c3e2ac"
      },
      "execution_count": 6,
      "outputs": [
        {
          "output_type": "display_data",
          "data": {
            "text/plain": [
              "<Figure size 640x480 with 1 Axes>"
            ],
            "image/png": "[encoded data removed]"
          },
          "metadata": {}
        },
        {
          "output_type": "stream",
          "name": "stdout",
          "text": [
            "Outliers: [35]\n"
          ]
        }
      ]
    },
    {
      "cell_type": "code",
      "source": [
        "\"\"\"\n",
        "Q-8. You are working as a data analyst in an e-commerce company. The marketing team wants to know if there is a relationship between advertising spend and daily sales.\n",
        "\n",
        "      ● Explain how you would use covariance and correlation to explore this relationship.\n",
        "      ● Write Python code to compute the correlation between the two lists:\n",
        "\n",
        "      advertising_spend = [200, 250, 300, 400, 500]\n",
        "      daily_sales = [2200, 2450, 2750, 3200, 4000]\n",
        "\"\"\"\n",
        "\n",
        "# Explanation\n",
        "\n",
        "\"\"\"\n",
        "To explore the relationship between advertising spend and daily sales, covariance shows whether the variables move together (positive means both increase),\n",
        "while the correlation coefficient measures the strength and direction of the linear relationship.\n",
        "\n",
        "\"\"\"\n",
        "\n",
        "# Python Code\n",
        "\n",
        "import numpy as np\n",
        "\n",
        "advertising_spend = [200, 250, 300, 400, 500]\n",
        "daily_sales = [2200, 2450, 2750, 3200, 4000]\n",
        "\n",
        "cov_matrix = np.cov(advertising_spend, daily_sales)\n",
        "covariance = cov_matrix[0, 1]\n",
        "\n",
        "correlation = np.corrcoef(advertising_spend, daily_sales)[0, 1]\n",
        "\n",
        "print(\"Covariance:\", covariance)\n",
        "print(\"Correlation Coefficient:\", correlation)\n",
        "\n",
        "\n"
      ],
      "metadata": {
        "colab": {
          "base_uri": "https://localhost:8080/"
        },
        "id": "ehnP-fopF8PF",
        "outputId": "4d19e82a-6b57-4e32-ab1b-c054d0335a17"
      },
      "execution_count": 8,
      "outputs": [
        {
          "output_type": "stream",
          "name": "stdout",
          "text": [
            "Covariance: 84875.0\n",
            "Correlation Coefficient: 0.9935824101653329\n"
          ]
        }
      ]
    },
    {
      "cell_type": "code",
      "source": [
        "\"\"\"\n",
        "Q-9.  Your team has collected customer satisfaction survey data on a scale of 1-10 and wants to understand its distribution before launching a new product.\n",
        "\n",
        "      ● Explain which summary statistics and visualizations (e.g. mean, standard deviation, histogram) you’d use.\n",
        "      ● Write Python code to create a histogram using Matplotlib for the survey data:\n",
        "\n",
        "      survey_scores = [7, 8, 5, 9, 6, 7, 8, 9, 10, 4, 7, 6, 9, 8, 7]\n",
        "\"\"\"\n",
        "\n",
        "# Explanation\n",
        "\n",
        "\"\"\"\n",
        "To understand customer satisfaction scores, calculate mean, median, mode, and standard deviation to summarize the data.\n",
        "A histogram can visualize how the scores are distributed, showing patterns like skewness or clusters around certain ratings.\n",
        "\"\"\"\n",
        "\n",
        "# Python Code\n",
        "\n",
        "import matplotlib.pyplot as plt\n",
        "\n",
        "survey_scores = [7, 8, 5, 9, 6, 7, 8, 9, 10, 4, 7, 6, 9, 8, 7]\n",
        "\n",
        "plt.hist(survey_scores, bins=range(4, 12), edgecolor='black', alpha=0.7)\n",
        "plt.title(\"Customer Satisfaction Survey Scores\")\n",
        "plt.xlabel(\"Score\")\n",
        "plt.ylabel(\"Frequency\")\n",
        "plt.xticks(range(4, 11))\n",
        "plt.show()\n",
        "\n",
        "\n",
        "\n"
      ],
      "metadata": {
        "colab": {
          "base_uri": "https://localhost:8080/",
          "height": 472
        },
        "id": "oHUWMbzNGlyI",
        "outputId": "8c195dfb-d9e1-4cf6-a177-2e7976327b47"
      },
      "execution_count": 9,
      "outputs": [
        {
          "output_type": "display_data",
          "data": {
            "text/plain": [
              "<Figure size 640x480 with 1 Axes>"
            ],
            "image/png": "[encoded data removed]"
          },
          "metadata": {}
        }
      ]
    },
    {
      "cell_type": "code",
      "source": [],
      "metadata": {
        "id": "b1U7A0gdHS6k"
      },
      "execution_count": null,
      "outputs": []
    }
  ]
}